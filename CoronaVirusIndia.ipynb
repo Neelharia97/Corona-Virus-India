{
 "cells": [
  {
   "cell_type": "code",
   "execution_count": 5,
   "metadata": {},
   "outputs": [
    {
     "name": "stdout",
     "output_type": "stream",
     "text": [
      "Requirement already up-to-date: pip in c:\\users\\neelh\\onedrive - stevens.edu\\stevens after arrival\\side projects\\corona virus india\\env\\lib\\site-packages (20.1.1)\n"
     ]
    }
   ],
   "source": [
    "!python -m pip install --upgrade pip\n",
    "\n"
   ]
  },
  {
   "cell_type": "code",
   "execution_count": 6,
   "metadata": {},
   "outputs": [
    {
     "name": "stdout",
     "output_type": "stream",
     "text": [
      "Requirement already satisfied: beautifulsoup4 in c:\\users\\neelh\\onedrive - stevens.edu\\stevens after arrival\\side projects\\corona virus india\\env\\lib\\site-packages (4.9.1)\n",
      "Requirement already satisfied: soupsieve>1.2 in c:\\users\\neelh\\onedrive - stevens.edu\\stevens after arrival\\side projects\\corona virus india\\env\\lib\\site-packages (from beautifulsoup4) (2.0.1)\n"
     ]
    }
   ],
   "source": [
    "!pip3 install beautifulsoup4"
   ]
  },
  {
   "cell_type": "code",
   "execution_count": 7,
   "metadata": {},
   "outputs": [
    {
     "name": "stdout",
     "output_type": "stream",
     "text": [
      "Requirement already satisfied: requests in c:\\users\\neelh\\onedrive - stevens.edu\\stevens after arrival\\side projects\\corona virus india\\env\\lib\\site-packages (2.23.0)\n",
      "Requirement already satisfied: urllib3!=1.25.0,!=1.25.1,<1.26,>=1.21.1 in c:\\users\\neelh\\onedrive - stevens.edu\\stevens after arrival\\side projects\\corona virus india\\env\\lib\\site-packages (from requests) (1.25.9)\n",
      "Requirement already satisfied: certifi>=2017.4.17 in c:\\users\\neelh\\onedrive - stevens.edu\\stevens after arrival\\side projects\\corona virus india\\env\\lib\\site-packages (from requests) (2020.4.5.1)\n",
      "Requirement already satisfied: idna<3,>=2.5 in c:\\users\\neelh\\onedrive - stevens.edu\\stevens after arrival\\side projects\\corona virus india\\env\\lib\\site-packages (from requests) (2.9)\n",
      "Requirement already satisfied: chardet<4,>=3.0.2 in c:\\users\\neelh\\onedrive - stevens.edu\\stevens after arrival\\side projects\\corona virus india\\env\\lib\\site-packages (from requests) (3.0.4)\n"
     ]
    }
   ],
   "source": [
    "!pip3 install requests"
   ]
  },
  {
   "cell_type": "code",
   "execution_count": 8,
   "metadata": {},
   "outputs": [
    {
     "name": "stdout",
     "output_type": "stream",
     "text": [
      "Requirement already satisfied: tabulate in c:\\users\\neelh\\onedrive - stevens.edu\\stevens after arrival\\side projects\\corona virus india\\env\\lib\\site-packages (0.8.7)\n"
     ]
    }
   ],
   "source": [
    "!pip3 install tabulate"
   ]
  },
  {
   "cell_type": "code",
   "execution_count": 9,
   "metadata": {},
   "outputs": [
    {
     "name": "stdout",
     "output_type": "stream",
     "text": [
      "Collecting numpy\n",
      "  Using cached numpy-1.18.4-cp37-cp37m-win_amd64.whl (12.8 MB)\n",
      "Installing collected packages: numpy\n",
      "Successfully installed numpy-1.18.4\n"
     ]
    }
   ],
   "source": [
    "!pip3 install numpy\n"
   ]
  },
  {
   "cell_type": "code",
   "execution_count": 10,
   "metadata": {},
   "outputs": [
    {
     "name": "stdout",
     "output_type": "stream",
     "text": [
      "Collecting matplotlib\n",
      "  Using cached matplotlib-3.2.1-cp37-cp37m-win_amd64.whl (9.2 MB)\n",
      "Requirement already satisfied: pyparsing!=2.0.4,!=2.1.2,!=2.1.6,>=2.0.1 in c:\\users\\neelh\\onedrive - stevens.edu\\stevens after arrival\\side projects\\corona virus india\\env\\lib\\site-packages (from matplotlib) (2.4.7)\n",
      "Collecting kiwisolver>=1.0.1\n",
      "  Using cached kiwisolver-1.2.0-cp37-none-win_amd64.whl (57 kB)\n",
      "Requirement already satisfied: python-dateutil>=2.1 in c:\\users\\neelh\\onedrive - stevens.edu\\stevens after arrival\\side projects\\corona virus india\\env\\lib\\site-packages (from matplotlib) (2.8.1)\n",
      "Requirement already satisfied: numpy>=1.11 in c:\\users\\neelh\\onedrive - stevens.edu\\stevens after arrival\\side projects\\corona virus india\\env\\lib\\site-packages (from matplotlib) (1.18.4)\n",
      "Collecting cycler>=0.10\n",
      "  Using cached cycler-0.10.0-py2.py3-none-any.whl (6.5 kB)\n",
      "Requirement already satisfied: six>=1.5 in c:\\users\\neelh\\onedrive - stevens.edu\\stevens after arrival\\side projects\\corona virus india\\env\\lib\\site-packages (from python-dateutil>=2.1->matplotlib) (1.15.0)\n",
      "Installing collected packages: kiwisolver, cycler, matplotlib\n",
      "Successfully installed cycler-0.10.0 kiwisolver-1.2.0 matplotlib-3.2.1\n"
     ]
    }
   ],
   "source": [
    "!pip3 install matplotlib "
   ]
  },
  {
   "cell_type": "code",
   "execution_count": 16,
   "metadata": {},
   "outputs": [],
   "source": [
    "import requests\n",
    "from bs4 import BeautifulSoup\n",
    "from tabulate import tabulate\n",
    "import os\n",
    "import numpy as np\n",
    "import matplotlib.pyplot as plt"
   ]
  },
  {
   "cell_type": "code",
   "execution_count": 18,
   "metadata": {},
   "outputs": [
    {
     "name": "stdout",
     "output_type": "stream",
     "text": [
      "SNo    State                               Confirmed  Cured    Dead\n",
      "-----  --------------------------------  -----------  -------  ------\n",
      "1      Andaman and Nicobar Islands                33  33       0\n",
      "2      Andhra Pradesh                           3171  2057     58\n",
      "3      Arunachal Pradesh                           2  1        0\n",
      "4      Assam                                     781  87       4\n",
      "5      Bihar                                    3061  1083     15\n",
      "6      Chandigarh                                279  187      4\n",
      "7      Chhattisgarh                              369  83       0\n",
      "8      Dadar Nagar Haveli                          2  0        0\n",
      "9      Delhi                                   15257  7264     303\n",
      "10     Goa                                        68  37       0\n",
      "11     Gujarat                                 15195  7549     938\n",
      "12     Haryana                                  1381  838      18\n",
      "13     Himachal Pradesh                          273  70       5\n",
      "14     Jammu and Kashmir                        1921  854      26\n",
      "15     Jharkhand                                 448  185      4\n",
      "16     Karnataka                                2418  781      47\n",
      "17     Kerala                                   1004  552      7\n",
      "18     Ladakh                                     53  43       0\n",
      "19     Madhya Pradesh                           7261  3927     313\n",
      "20     Maharashtra                             56948  17918    1897\n",
      "21     Manipur                                    44  4        0\n",
      "22     Meghalaya                                  20  12       1\n",
      "23     Mizoram                                     1  1        0\n",
      "24     Nagaland                                    4  0        0\n",
      "25     Odisha                                   1593  733      7\n",
      "26     Puducherry                                 46  12       0\n",
      "27     Punjab                                   2139  1918     40\n",
      "28     Rajasthan                                7703  4457     173\n",
      "29     Sikkim                                      1  0        0\n",
      "30     Tamil Nadu                              18545  9909     133\n",
      "31     Telengana                                2098  1284     63\n",
      "32     Tripura                                   230  165      0\n",
      "33     Uttarakhand                               469  79       4\n",
      "34     Uttar Pradesh                            6991  3991     182\n",
      "35     West Bengal                              4192  1578     289\n",
      "       Cases being reassigned to states         4332\n",
      "37     Total Cases                            158333  67692    4531\n"
     ]
    }
   ],
   "source": [
    "extract_contents = lambda row: [x.text.replace('\\n','') for x in row]\n",
    "URL = 'https://www.mohfw.gov.in/'\n",
    "\n",
    "SHORT_HEADERS = ['SNo', 'State', 'Confirmed','Cured','Dead']\n",
    "response  = requests.get(URL).content\n",
    "soup = BeautifulSoup(response, 'html.parser')\n",
    "header = extract_contents(soup.tr.find_all('th'))\n",
    "stats = []\n",
    "all_rows = soup.find_all('tr')\n",
    "\n",
    "for row in  all_rows:\n",
    "    stat = extract_contents(row.find_all('td'))\n",
    "    \n",
    "    if stat:\n",
    "        if len(stat) == 4:\n",
    "            stat = ['',*stat]\n",
    "            stat.append(stat)\n",
    "        elif len(stat) == 5:\n",
    "            stats.append(stat)\n",
    "stats[-1][0] = len(stats)\n",
    "stats[-1][1] = \"Total Cases\"\n",
    "\n",
    "objects = []\n",
    "for row in stats:\n",
    "    objects.append(row[1])\n",
    "\n",
    "y_pos = np.arange(len(objects))\n",
    "performance = []\n",
    "for row in stats[:len(stats)-1]:\n",
    "    performance.append(int(row[2]))\n",
    "performance.append(int(stats[-1][2][:len(stats[-1][2])-1]))\n",
    "table = tabulate(stats, headers = SHORT_HEADERS)\n",
    "print(table)"
   ]
  },
  {
   "cell_type": "code",
   "execution_count": 25,
   "metadata": {},
   "outputs": [
    {
     "data": {
      "image/png": "[encoded data removed]",
      "text/plain": [
       "<Figure size 432x288 with 1 Axes>"
      ]
     },
     "metadata": {
      "needs_background": "light"
     },
     "output_type": "display_data"
    }
   ],
   "source": [
    "plt.barh(y_pos,performance,align = 'center', alpha = 0.5, color = (234/256.0, 128/256.0, 252/256.0),edgecolor=(106/256.0, 27/256.0, 154/256.0))\n",
    "plt.yticks(y_pos, objects)\n",
    "plt.xlim(1, performance[-1]+1000)\n",
    "plt.xlabel('Number of Cases')\n",
    "plt.title('Corona Virus Cases')\n",
    "plt.show()"
   ]
  }
 ],
 "metadata": {
  "kernelspec": {
   "display_name": "Python 3",
   "language": "python",
   "name": "python3"
  },
  "language_info": {
   "codemirror_mode": {
    "name": "ipython",
    "version": 3
   },
   "file_extension": ".py",
   "mimetype": "text/x-python",
   "name": "python",
   "nbconvert_exporter": "python",
   "pygments_lexer": "ipython3",
   "version": "3.7.1"
  }
 },
 "nbformat": 4,
 "nbformat_minor": 4
}
